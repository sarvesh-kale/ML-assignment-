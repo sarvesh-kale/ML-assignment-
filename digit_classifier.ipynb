{
 "cells": [
  {
   "cell_type": "raw",
   "metadata": {},
   "source": [
    "Digit Classification using various classification Algo."
   ]
  },
  {
   "cell_type": "code",
   "execution_count": 1,
   "metadata": {},
   "outputs": [
    {
     "data": {
      "text/plain": [
       "dict_keys(['data', 'target', 'target_names', 'images', 'DESCR'])"
      ]
     },
     "execution_count": 1,
     "metadata": {},
     "output_type": "execute_result"
    }
   ],
   "source": [
    "from sklearn.datasets import load_digits\n",
    "digits = load_digits()\n",
    "digits.keys()\n",
    "#"
   ]
  },
  {
   "cell_type": "code",
   "execution_count": 19,
   "metadata": {},
   "outputs": [
    {
     "name": "stdout",
     "output_type": "stream",
     "text": [
      "[0 1 2 3 4 5 6 7 8 9]\n",
      "(1797,)\n",
      "(1797, 64)\n"
     ]
    }
   ],
   "source": [
    "print(digits.target_names)\n",
    "print(digits.target.shape)\n",
    "print(digits.data.shape)"
   ]
  },
  {
   "cell_type": "raw",
   "metadata": {},
   "source": [
    "this suggest that there are 1797 images each of which is represented by 64 numbers "
   ]
  },
  {
   "cell_type": "code",
   "execution_count": 131,
   "metadata": {},
   "outputs": [
    {
     "name": "stdout",
     "output_type": "stream",
     "text": [
      "[[ 0.  0.  5. 13.  9.  1.  0.  0.]\n",
      " [ 0.  0. 13. 15. 10. 15.  5.  0.]\n",
      " [ 0.  3. 15.  2.  0. 11.  8.  0.]\n",
      " [ 0.  4. 12.  0.  0.  8.  8.  0.]\n",
      " [ 0.  5.  8.  0.  0.  9.  8.  0.]\n",
      " [ 0.  4. 11.  0.  1. 12.  7.  0.]\n",
      " [ 0.  2. 14.  5. 10. 12.  0.  0.]\n",
      " [ 0.  0.  6. 13. 10.  0.  0.  0.]]\n"
     ]
    }
   ],
   "source": [
    "print(digits.images[0])#images and data have same content."
   ]
  },
  {
   "cell_type": "code",
   "execution_count": 132,
   "metadata": {},
   "outputs": [
    {
     "data": {
      "text/plain": [
       "<matplotlib.image.AxesImage at 0xe611a72dc8>"
      ]
     },
     "execution_count": 132,
     "metadata": {},
     "output_type": "execute_result"
    },
    {
     "data": {
      "image/png": "[encoded data removed]",
      "text/plain": [
       "<Figure size 288x288 with 1 Axes>"
      ]
     },
     "metadata": {
      "needs_background": "light"
     },
     "output_type": "display_data"
    }
   ],
   "source": [
    "import matplotlib.pyplot as plt\n",
    "plt.matshow(digits.images[0],cmap=plt.cm.Greys)"
   ]
  },
  {
   "cell_type": "code",
   "execution_count": 10,
   "metadata": {},
   "outputs": [],
   "source": [
    "from sklearn.model_selection import train_test_split\n",
    "from sklearn.naive_bayes import GaussianNB"
   ]
  },
  {
   "cell_type": "code",
   "execution_count": 15,
   "metadata": {},
   "outputs": [],
   "source": [
    "X_train, X_test, y_train, y_test = train_test_split(digits.data,digits.target)"
   ]
  },
  {
   "cell_type": "code",
   "execution_count": 13,
   "metadata": {},
   "outputs": [
    {
     "data": {
      "text/plain": [
       "(1347, 64)"
      ]
     },
     "execution_count": 13,
     "metadata": {},
     "output_type": "execute_result"
    }
   ],
   "source": [
    "X_train.shape"
   ]
  },
  {
   "cell_type": "code",
   "execution_count": 14,
   "metadata": {},
   "outputs": [
    {
     "data": {
      "text/plain": [
       "0.7495826377295493"
      ]
     },
     "execution_count": 14,
     "metadata": {},
     "output_type": "execute_result"
    }
   ],
   "source": [
    "1347/1797 # the splitting ratio is approx 75%,25% by defalut for training and testing "
   ]
  },
  {
   "cell_type": "code",
   "execution_count": 16,
   "metadata": {},
   "outputs": [
    {
     "data": {
      "text/plain": [
       "GaussianNB(priors=None, var_smoothing=1e-09)"
      ]
     },
     "execution_count": 16,
     "metadata": {},
     "output_type": "execute_result"
    }
   ],
   "source": [
    "gaussian=GaussianNB()\n",
    "gaussian.fit(X_train,y_train)"
   ]
  },
  {
   "cell_type": "code",
   "execution_count": 17,
   "metadata": {},
   "outputs": [],
   "source": [
    "y_predict=gaussian.predict(X_test)"
   ]
  },
  {
   "cell_type": "code",
   "execution_count": 18,
   "metadata": {},
   "outputs": [
    {
     "data": {
      "text/plain": [
       "0.8288888888888889"
      ]
     },
     "execution_count": 18,
     "metadata": {},
     "output_type": "execute_result"
    }
   ],
   "source": [
    "gaussian.score(X_test,y_test)"
   ]
  },
  {
   "cell_type": "code",
   "execution_count": 37,
   "metadata": {},
   "outputs": [
    {
     "data": {
      "text/plain": [
       "<matplotlib.image.AxesImage at 0xe61133fa48>"
      ]
     },
     "execution_count": 37,
     "metadata": {},
     "output_type": "execute_result"
    },
    {
     "data": {
      "image/png": "[encoded data removed]",
      "text/plain": [
       "<Figure size 288x288 with 1 Axes>"
      ]
     },
     "metadata": {
      "needs_background": "light"
     },
     "output_type": "display_data"
    }
   ],
   "source": [
    "from sklearn.metrics import confusion_matrix\n",
    "plt.matshow(confusion_matrix(y_test, y_predict),cmap=plt.cm.Greys)\n",
    "#matrix values plotted as colours ,higher the value darker the colour ."
   ]
  },
  {
   "cell_type": "code",
   "execution_count": 79,
   "metadata": {},
   "outputs": [],
   "source": [
    "from sklearn import tree\n",
    "model = tree.DecisionTreeClassifier(max_depth=12,criterion=\"gini\")\n",
    "model = model.fit(X_train, y_train)"
   ]
  },
  {
   "cell_type": "code",
   "execution_count": 80,
   "metadata": {},
   "outputs": [],
   "source": [
    "y_predict=model.predict(X_test)"
   ]
  },
  {
   "cell_type": "code",
   "execution_count": 83,
   "metadata": {},
   "outputs": [
    {
     "data": {
      "text/plain": [
       "0.8622222222222222"
      ]
     },
     "execution_count": 83,
     "metadata": {},
     "output_type": "execute_result"
    }
   ],
   "source": [
    "model.score(X_test,y_test)\n",
    "#for default classifier the accuracy was 83 %\n",
    "#for max_depth = 10 it becomes 84 % ,improved because a kind of regularization\n",
    "#and peaks for max_depth of 12 with score of around 85.5 % "
   ]
  },
  {
   "cell_type": "code",
   "execution_count": 84,
   "metadata": {},
   "outputs": [
    {
     "data": {
      "text/plain": [
       "<matplotlib.image.AxesImage at 0xe6119a5308>"
      ]
     },
     "execution_count": 84,
     "metadata": {},
     "output_type": "execute_result"
    },
    {
     "data": {
      "image/png": "[encoded data removed]",
      "text/plain": [
       "<Figure size 288x288 with 1 Axes>"
      ]
     },
     "metadata": {
      "needs_background": "light"
     },
     "output_type": "display_data"
    }
   ],
   "source": [
    "plt.matshow(confusion_matrix(y_test, y_predict),cmap=plt.cm.Greys)"
   ]
  },
  {
   "cell_type": "raw",
   "metadata": {},
   "source": [
    "Now classification using RandomForest \n",
    "Since Forest is like multiple trees it should perform better in classification \n",
    "because it is not relying on one tree for its decision ."
   ]
  },
  {
   "cell_type": "code",
   "execution_count": 124,
   "metadata": {},
   "outputs": [],
   "source": [
    "from sklearn.ensemble import RandomForestClassifier\n",
    "model = RandomForestClassifier(n_estimators=15)\n",
    "model = model.fit(X_train, y_train)"
   ]
  },
  {
   "cell_type": "code",
   "execution_count": 125,
   "metadata": {},
   "outputs": [],
   "source": [
    "y_predict=model.predict(X_test)"
   ]
  },
  {
   "cell_type": "code",
   "execution_count": 126,
   "metadata": {},
   "outputs": [
    {
     "data": {
      "text/plain": [
       "0.9466666666666667"
      ]
     },
     "execution_count": 126,
     "metadata": {},
     "output_type": "execute_result"
    }
   ],
   "source": [
    "model.score(X_test,y_test)"
   ]
  },
  {
   "cell_type": "raw",
   "metadata": {},
   "source": [
    "The hypothesis was correct "
   ]
  },
  {
   "cell_type": "raw",
   "metadata": {},
   "source": [
    "Now we use SVM classifier \n",
    "the support vector machine shot to fame by classification of digits and handwriting recognization\n",
    "on postal letters in US and Vapnik suggested using it ,worked like a charm !"
   ]
  },
  {
   "cell_type": "code",
   "execution_count": 136,
   "metadata": {},
   "outputs": [
    {
     "data": {
      "text/plain": [
       "SVC(C=1000, break_ties=False, cache_size=200, class_weight=None, coef0=0.0,\n",
       "    decision_function_shape='ovr', degree=3, gamma='scale', kernel='rbf',\n",
       "    max_iter=-1, probability=False, random_state=None, shrinking=True,\n",
       "    tol=0.001, verbose=False)"
      ]
     },
     "execution_count": 136,
     "metadata": {},
     "output_type": "execute_result"
    }
   ],
   "source": [
    "from sklearn import svm\n",
    "model = svm.SVC(C=1000)# C bears an inverse relation to lambda ,the term that we use for penalty . \n",
    "model.fit(X_train, y_train)"
   ]
  },
  {
   "cell_type": "code",
   "execution_count": 137,
   "metadata": {},
   "outputs": [],
   "source": [
    "y_predict=model.predict(X_test)"
   ]
  },
  {
   "cell_type": "code",
   "execution_count": 138,
   "metadata": {},
   "outputs": [
    {
     "data": {
      "text/plain": [
       "0.9911111111111112"
      ]
     },
     "execution_count": 138,
     "metadata": {},
     "output_type": "execute_result"
    }
   ],
   "source": [
    "model.score(X_test,y_test)"
   ]
  },
  {
   "cell_type": "raw",
   "metadata": {},
   "source": [
    "We can clearly see that the off diagonal elements are almost zero everywhere\n",
    "and the diagonal element are the darkest suggesting that the number was interpreted correctly almost \n",
    "always which is what the number 99.1 % suggest !"
   ]
  },
  {
   "cell_type": "code",
   "execution_count": 139,
   "metadata": {},
   "outputs": [
    {
     "data": {
      "text/plain": [
       "<matplotlib.image.AxesImage at 0xe611b1e548>"
      ]
     },
     "execution_count": 139,
     "metadata": {},
     "output_type": "execute_result"
    },
    {
     "data": {
      "image/png": "[encoded data removed]",
      "text/plain": [
       "<Figure size 288x288 with 1 Axes>"
      ]
     },
     "metadata": {
      "needs_background": "light"
     },
     "output_type": "display_data"
    }
   ],
   "source": [
    "plt.matshow(confusion_matrix(y_test, y_predict),cmap=plt.cm.Greys)"
   ]
  },
  {
   "cell_type": "raw",
   "metadata": {},
   "source": [
    "Well turns out Vapnik was right all the way .\n",
    "The story is dictated beautifully by prof Patrick Winston MIT in his course on \n",
    "Artificial Intelligence in his lecture on SVM ,Lec 16, start of story- 46:30 .\n",
    "Without even tuning parameters the output score was 98%\n",
    "and it improved to 99.1% by adding a regularization term ."
   ]
  },
  {
   "cell_type": "raw",
   "metadata": {},
   "source": [
    "We will now use neural network classifier and the performance should be good but\n",
    "not as good as SVM ."
   ]
  },
  {
   "cell_type": "code",
   "execution_count": 142,
   "metadata": {},
   "outputs": [],
   "source": [
    "from sklearn.neural_network import MLPClassifier\n",
    "model = MLPClassifier(hidden_layer_sizes=(100,75,60,50,40,30,20,10),\n",
    "    activation='relu',\n",
    "    solver='adam',\n",
    "    alpha=0.0001,\n",
    "    batch_size='auto',\n",
    "    learning_rate='constant',verbose='true')\n",
    "#verbose is set true to print progress "
   ]
  },
  {
   "cell_type": "code",
   "execution_count": 143,
   "metadata": {},
   "outputs": [
    {
     "name": "stdout",
     "output_type": "stream",
     "text": [
      "Iteration 1, loss = 2.45378344\n",
      "Iteration 2, loss = 2.20315689\n",
      "Iteration 3, loss = 1.98813206\n",
      "Iteration 4, loss = 1.74687325\n",
      "Iteration 5, loss = 1.52961576\n",
      "Iteration 6, loss = 1.26897121\n",
      "Iteration 7, loss = 1.00644809\n",
      "Iteration 8, loss = 0.75247024\n",
      "Iteration 9, loss = 0.57034401\n",
      "Iteration 10, loss = 0.42228321\n",
      "Iteration 11, loss = 0.30523247\n",
      "Iteration 12, loss = 0.22617505\n",
      "Iteration 13, loss = 0.19527258\n",
      "Iteration 14, loss = 0.15700989\n",
      "Iteration 15, loss = 0.12411686\n",
      "Iteration 16, loss = 0.10510774\n",
      "Iteration 17, loss = 0.09326049\n",
      "Iteration 18, loss = 0.07357775\n",
      "Iteration 19, loss = 0.05610833\n",
      "Iteration 20, loss = 0.04588050\n",
      "Iteration 21, loss = 0.03916270\n",
      "Iteration 22, loss = 0.03438640\n",
      "Iteration 23, loss = 0.02742548\n",
      "Iteration 24, loss = 0.02621238\n",
      "Iteration 25, loss = 0.02109085\n",
      "Iteration 26, loss = 0.01752059\n",
      "Iteration 27, loss = 0.01607457\n",
      "Iteration 28, loss = 0.01480371\n",
      "Iteration 29, loss = 0.01325131\n",
      "Iteration 30, loss = 0.01150669\n",
      "Iteration 31, loss = 0.01009952\n",
      "Iteration 32, loss = 0.00928070\n",
      "Iteration 33, loss = 0.00842397\n",
      "Iteration 34, loss = 0.00770717\n",
      "Iteration 35, loss = 0.00698333\n",
      "Iteration 36, loss = 0.00636501\n",
      "Iteration 37, loss = 0.00616415\n",
      "Iteration 38, loss = 0.00545054\n",
      "Iteration 39, loss = 0.00494199\n",
      "Iteration 40, loss = 0.00466306\n",
      "Iteration 41, loss = 0.00428253\n",
      "Iteration 42, loss = 0.00394438\n",
      "Iteration 43, loss = 0.00361721\n",
      "Iteration 44, loss = 0.00330639\n",
      "Iteration 45, loss = 0.00308048\n",
      "Iteration 46, loss = 0.00283530\n",
      "Iteration 47, loss = 0.00269263\n",
      "Iteration 48, loss = 0.00248927\n",
      "Iteration 49, loss = 0.00237019\n",
      "Iteration 50, loss = 0.00223661\n",
      "Iteration 51, loss = 0.00209250\n",
      "Iteration 52, loss = 0.00196441\n",
      "Iteration 53, loss = 0.00188475\n",
      "Iteration 54, loss = 0.00183162\n",
      "Iteration 55, loss = 0.00170408\n",
      "Iteration 56, loss = 0.00161765\n",
      "Iteration 57, loss = 0.00153428\n",
      "Iteration 58, loss = 0.00146135\n",
      "Iteration 59, loss = 0.00140641\n",
      "Iteration 60, loss = 0.00135024\n",
      "Iteration 61, loss = 0.00128912\n",
      "Iteration 62, loss = 0.00122750\n",
      "Iteration 63, loss = 0.00119204\n",
      "Iteration 64, loss = 0.00114817\n",
      "Iteration 65, loss = 0.00111187\n",
      "Iteration 66, loss = 0.00105461\n",
      "Training loss did not improve more than tol=0.000100 for 10 consecutive epochs. Stopping.\n"
     ]
    },
    {
     "data": {
      "text/plain": [
       "MLPClassifier(activation='relu', alpha=0.0001, batch_size='auto', beta_1=0.9,\n",
       "              beta_2=0.999, early_stopping=False, epsilon=1e-08,\n",
       "              hidden_layer_sizes=(100, 75, 60, 50, 40, 30, 20, 10),\n",
       "              learning_rate='constant', learning_rate_init=0.001, max_fun=15000,\n",
       "              max_iter=200, momentum=0.9, n_iter_no_change=10,\n",
       "              nesterovs_momentum=True, power_t=0.5, random_state=None,\n",
       "              shuffle=True, solver='adam', tol=0.0001, validation_fraction=0.1,\n",
       "              verbose='true', warm_start=False)"
      ]
     },
     "execution_count": 143,
     "metadata": {},
     "output_type": "execute_result"
    }
   ],
   "source": [
    "model.fit(X_train,y_train)"
   ]
  },
  {
   "cell_type": "code",
   "execution_count": 144,
   "metadata": {},
   "outputs": [],
   "source": [
    "y_predict=model.predict(X_test)"
   ]
  },
  {
   "cell_type": "code",
   "execution_count": 145,
   "metadata": {},
   "outputs": [
    {
     "data": {
      "text/plain": [
       "0.9622222222222222"
      ]
     },
     "execution_count": 145,
     "metadata": {},
     "output_type": "execute_result"
    }
   ],
   "source": [
    "model.score(X_test,y_test)"
   ]
  },
  {
   "cell_type": "raw",
   "metadata": {},
   "source": [
    "A couple of things has led to neural network perform better than most of the other \n",
    "classifiers except SVM ,a rule of thumb while implementing neural networks is that \n",
    "overparameterization helps us very much which means that have more hidden layers ,also relu activation and regularization helped to improve performance since regularization implies \n",
    "moving away from completely memorizing the data."
   ]
  },
  {
   "cell_type": "code",
   "execution_count": 146,
   "metadata": {},
   "outputs": [
    {
     "data": {
      "text/plain": [
       "<matplotlib.image.AxesImage at 0xe6116f61c8>"
      ]
     },
     "execution_count": 146,
     "metadata": {},
     "output_type": "execute_result"
    },
    {
     "data": {
      "image/png": "[encoded data removed]",
      "text/plain": [
       "<Figure size 288x288 with 1 Axes>"
      ]
     },
     "metadata": {
      "needs_background": "light"
     },
     "output_type": "display_data"
    }
   ],
   "source": [
    "plt.matshow(confusion_matrix(y_test, y_predict),cmap=plt.cm.Greys)"
   ]
  },
  {
   "cell_type": "code",
   "execution_count": null,
   "metadata": {},
   "outputs": [],
   "source": []
  }
 ],
 "metadata": {
  "kernelspec": {
   "display_name": "Python 3",
   "language": "python",
   "name": "python3"
  },
  "language_info": {
   "codemirror_mode": {
    "name": "ipython",
    "version": 3
   },
   "file_extension": ".py",
   "mimetype": "text/x-python",
   "name": "python",
   "nbconvert_exporter": "python",
   "pygments_lexer": "ipython3",
   "version": "3.7.7"
  }
 },
 "nbformat": 4,
 "nbformat_minor": 4
}
