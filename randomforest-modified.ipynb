{
 "cells": [
  {
   "cell_type": "code",
   "execution_count": 1,
   "metadata": {},
   "outputs": [],
   "source": [
    "#please note I have used Jupyter Notebook \n",
    "import sklearn \n",
    "import pandas as pd \n",
    "import numpy as np "
   ]
  },
  {
   "cell_type": "code",
   "execution_count": 2,
   "metadata": {},
   "outputs": [],
   "source": [
    "#test.csv train.csv sample_submission.csv files should be in current directory "
   ]
  },
  {
   "cell_type": "code",
   "execution_count": 3,
   "metadata": {},
   "outputs": [
    {
     "name": "stdout",
     "output_type": "stream",
     "text": [
      "172\n",
      "0      1029\n",
      "1      1030\n",
      "2      1031\n",
      "3      1032\n",
      "4      1033\n",
      "       ... \n",
      "436    1465\n",
      "437    1466\n",
      "438    1467\n",
      "439    1468\n",
      "440    1469\n",
      "Name: ID, Length: 441, dtype: int64\n",
      "<class 'numpy.ndarray'>\n"
     ]
    }
   ],
   "source": [
    "#the path should be that of the file paths in google colab \n",
    "#do not forget to insert a r in front of double inverted commas \n",
    "train = pd.read_csv(r\"C:\\Users\\Sarvesh\\Documents\\Downloads\\ee-769-assignment1\\train.csv\")#provide path to train.csv\n",
    "test = pd.read_csv(r\"C:\\Users\\Sarvesh\\Documents\\Downloads\\ee-769-assignment1\\test.csv\")#provide path to test.csv\n",
    "#imported training and testing dataset .\n",
    "# r  is used in front for raw string ,path should be supplied to read_csv .\n",
    "y=train[train.columns[1]]#extract target column  \n",
    "#print(y)\n",
    "print(np.count_nonzero(y == 1))\n",
    "ID=train[train.columns[33]]#extract ID of employees,indexing starts from zero \n",
    "IDtest=test[test.columns[32]]\n",
    "print(IDtest)\n",
    "IDtesting=IDtest.to_numpy()\n",
    "print(type(IDtesting))\n"
   ]
  },
  {
   "cell_type": "code",
   "execution_count": 4,
   "metadata": {},
   "outputs": [],
   "source": [
    "train.drop(['EmployeeCount','EmployeeNumber','ID','Attrition'],axis=1,inplace=True)\n",
    "test.drop(['EmployeeCount','EmployeeNumber','ID'],axis=1,inplace=True)"
   ]
  },
  {
   "cell_type": "code",
   "execution_count": 88,
   "metadata": {},
   "outputs": [],
   "source": [
    "train = pd.get_dummies(train)\n",
    "test = pd.get_dummies(test)"
   ]
  },
  {
   "cell_type": "code",
   "execution_count": 89,
   "metadata": {},
   "outputs": [],
   "source": [
    "#X=normalized_train.to_numpy()\n",
    "#y=y.to_numpy()\n",
    "#Xtesting=normalized_test.to_numpy()\n",
    "from sklearn.preprocessing import StandardScaler\n",
    "scaler = StandardScaler()\n",
    "# Fit only to the training data\n",
    "X=train.to_numpy()\n",
    "X=np.nan_to_num(X)#Set NAN to 0\n",
    "y=y.to_numpy()\n",
    "test=test.to_numpy()\n",
    "test=np.nan_to_num(test)#Set NAN to 0\n",
    "scaler.fit(train)\n",
    "X = scaler.transform(train)\n",
    "Xtesting = scaler.transform(test)"
   ]
  },
  {
   "cell_type": "code",
   "execution_count": 90,
   "metadata": {},
   "outputs": [],
   "source": [
    "from sklearn.ensemble import RandomForestClassifier \n",
    "clf = RandomForestClassifier(criterion='gini',n_estimators=3000 ,random_state=20,max_features=10,min_samples_split=2) \n",
    "#number of random forests used are 3000 and max depth of 10...."
   ]
  },
  {
   "cell_type": "code",
   "execution_count": 91,
   "metadata": {},
   "outputs": [],
   "source": [
    "#This was don for validation on training set ,where training set was split \n",
    "#from sklearn.model_selection import train_test_split\n",
    "#X_train, X_test, y_train, y_test = train_test_split(X, y,test_size=180)#split the training set \n",
    "#X_train.shape, X_test.shape"
   ]
  },
  {
   "cell_type": "code",
   "execution_count": 92,
   "metadata": {},
   "outputs": [
    {
     "data": {
      "text/plain": [
       "RandomForestClassifier(bootstrap=True, ccp_alpha=0.0, class_weight=None,\n",
       "                       criterion='gini', max_depth=None, max_features=10,\n",
       "                       max_leaf_nodes=None, max_samples=None,\n",
       "                       min_impurity_decrease=0.0, min_impurity_split=None,\n",
       "                       min_samples_leaf=1, min_samples_split=2,\n",
       "                       min_weight_fraction_leaf=0.0, n_estimators=3000,\n",
       "                       n_jobs=None, oob_score=False, random_state=20, verbose=0,\n",
       "                       warm_start=False)"
      ]
     },
     "execution_count": 92,
     "metadata": {},
     "output_type": "execute_result"
    }
   ],
   "source": [
    "#clf.fit(X_train, y_train)\n",
    "#y_pred = clf.predict(X_test)\n",
    "#print(\"{0} / {1} correct\".format(np.sum(y_test == y_pred), len(y_test)))\n",
    "clf.fit(X, y)"
   ]
  },
  {
   "cell_type": "code",
   "execution_count": 93,
   "metadata": {},
   "outputs": [],
   "source": [
    "ytesting=clf.predict(Xtesting)#run the classifier on testing data "
   ]
  },
  {
   "cell_type": "code",
   "execution_count": 94,
   "metadata": {
    "scrolled": true
   },
   "outputs": [
    {
     "name": "stdout",
     "output_type": "stream",
     "text": [
      "[0 0 0 1 0 0 0 0 0 0 0 0 0 0 0 0 0 0 0 0 0 0 0 0 0 0 0 0 0 0 0 1 0 0 0 0 0\n",
      " 0 0 0 0 0 0 0 0 0 0 0 0 0 0 0 0 0 0 0 0 0 0 0 0 0 0 0 0 0 0 0 0 0 0 0 0 0\n",
      " 0 0 0 0 0 0 0 1 0 0 0 0 0 0 0 0 0 0 0 0 0 0 0 0 0 0 0 0 0 0 0 0 0 1 1 0 0\n",
      " 0 0 0 0 0 0 0 0 0 0 0 0 0 1 0 0 0 0 0 0 0 0 0 0 0 0 0 0 0 0 0 1 0 0 0 0 0\n",
      " 0 0 0 0 0 0 0 0 0 0 0 0 0 0 0 0 0 0 0 0 0 0 0 0 0 0 0 0 0 0 0 0 0 0 0 0 0\n",
      " 0 0 0 0 0 0 0 0 0 0 0 0 0 0 0 0 0 0 0 0 0 0 0 0 0 0 0 0 0 0 0 0 0 0 0 0 0\n",
      " 0 0 0 0 0 0 0 0 0 0 0 1 0 0 0 0 0 0 0 0 0 0 1 0 0 0 0 0 0 0 0 0 0 0 0 0 0\n",
      " 0 0 0 0 0 0 0 0 0 1 0 0 0 0 0 0 0 0 0 0 0 0 0 1 0 1 0 0 0 0 0 0 0 0 0 0 0\n",
      " 0 1 0 0 0 0 0 1 0 0 0 0 0 0 1 0 0 0 0 0 0 0 0 0 0 0 0 0 0 0 0 0 0 0 0 0 0\n",
      " 0 0 0 1 0 0 0 0 0 0 0 0 0 1 0 0 0 1 0 0 0 0 0 0 0 0 0 0 0 0 0 0 0 0 1 0 0\n",
      " 0 0 0 1 0 0 0 0 0 0 0 0 0 0 0 0 0 0 0 0 0 0 0 0 0 0 0 0 0 0 0 0 0 0 0 0 0\n",
      " 1 0 0 0 0 0 0 0 0 0 0 0 0 0 0 0 0 0 0 0 0 0 0 0 0 0 0 0 0 0 0 0 0 0]\n",
      "<class 'numpy.ndarray'>\n",
      "21\n"
     ]
    }
   ],
   "source": [
    "print(ytesting)\n",
    "print(type(ytesting)) #printing output of test dataset after classifier is trained \n",
    "print(np.count_nonzero(ytesting == 1))"
   ]
  },
  {
   "cell_type": "code",
   "execution_count": 95,
   "metadata": {},
   "outputs": [],
   "source": [
    "#print(IDtesting) #printing Id in test data set "
   ]
  },
  {
   "cell_type": "code",
   "execution_count": 97,
   "metadata": {},
   "outputs": [],
   "source": [
    "#saving to csv file .\n",
    "df = pd.DataFrame({\"ID\" : IDtesting, \"Attrition\" : ytesting})\n",
    "df.to_csv(r\"C:\\Users\\Sarvesh\\Documents\\Downloads\\ee-769-assignment1\\output_modified_forest1.csv\", index=False)\n",
    "#the path should be a csv file if run on google colab \n",
    "#you can change the name of the file generated "
   ]
  },
  {
   "cell_type": "code",
   "execution_count": null,
   "metadata": {},
   "outputs": [],
   "source": []
  },
  {
   "cell_type": "code",
   "execution_count": null,
   "metadata": {},
   "outputs": [],
   "source": []
  }
 ],
 "metadata": {
  "kernelspec": {
   "display_name": "Python 3",
   "language": "python",
   "name": "python3"
  },
  "language_info": {
   "codemirror_mode": {
    "name": "ipython",
    "version": 3
   },
   "file_extension": ".py",
   "mimetype": "text/x-python",
   "name": "python",
   "nbconvert_exporter": "python",
   "pygments_lexer": "ipython3",
   "version": "3.7.7"
  }
 },
 "nbformat": 4,
 "nbformat_minor": 4
}
