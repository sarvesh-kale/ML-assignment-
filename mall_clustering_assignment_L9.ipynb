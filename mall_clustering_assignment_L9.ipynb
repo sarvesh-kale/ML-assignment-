{
 "cells": [
  {
   "cell_type": "raw",
   "metadata": {},
   "source": [
    "Clustering Assignment ."
   ]
  },
  {
   "cell_type": "code",
   "execution_count": 263,
   "metadata": {},
   "outputs": [],
   "source": [
    "import numpy as np\n",
    "import pandas as pd\n",
    "import matplotlib.pyplot as plt\n",
    "from sklearn.preprocessing import OneHotEncoder \n",
    "import seaborn as sns\n",
    "from sklearn.preprocessing import normalize\n",
    "# label encoding the data \n",
    "from sklearn.preprocessing import LabelEncoder  "
   ]
  },
  {
   "cell_type": "code",
   "execution_count": 264,
   "metadata": {},
   "outputs": [],
   "source": [
    "malldata = pd.read_csv(r'C:\\Users\\Sarvesh\\Desktop\\ML_submission\\assignment_shala_clustering.csv')\n",
    "le = LabelEncoder() \n",
    "  \n",
    "malldata['Gender']= le.fit_transform(malldata['Gender']) \n",
    "#source -->https://www.geeksforgeeks.org/ml-one-hot-encoding-of-datasets-in-python/"
   ]
  },
  {
   "cell_type": "code",
   "execution_count": 265,
   "metadata": {},
   "outputs": [],
   "source": [
    "malldata=malldata.to_numpy()"
   ]
  },
  {
   "cell_type": "code",
   "execution_count": 266,
   "metadata": {},
   "outputs": [
    {
     "data": {
      "text/plain": [
       "array([ 1,  1, 19, 15, 39], dtype=int64)"
      ]
     },
     "execution_count": 266,
     "metadata": {},
     "output_type": "execute_result"
    }
   ],
   "source": [
    "malldata[0]"
   ]
  },
  {
   "cell_type": "code",
   "execution_count": 267,
   "metadata": {},
   "outputs": [
    {
     "data": {
      "text/plain": [
       "array([ 2,  1, 21, 15, 81], dtype=int64)"
      ]
     },
     "execution_count": 267,
     "metadata": {},
     "output_type": "execute_result"
    }
   ],
   "source": [
    "malldata[1]"
   ]
  },
  {
   "cell_type": "code",
   "execution_count": 268,
   "metadata": {},
   "outputs": [],
   "source": [
    "#male has been assigned 1 so female will be zero ."
   ]
  },
  {
   "cell_type": "code",
   "execution_count": 269,
   "metadata": {},
   "outputs": [
    {
     "data": {
      "text/plain": [
       "88"
      ]
     },
     "execution_count": 269,
     "metadata": {},
     "output_type": "execute_result"
    }
   ],
   "source": [
    "malldata[:,1].sum()#number of males "
   ]
  },
  {
   "cell_type": "code",
   "execution_count": 270,
   "metadata": {},
   "outputs": [],
   "source": [
    "a=malldata[:,1]==0#cross checking to ensure the number of females should be 112 because total is 200 "
   ]
  },
  {
   "cell_type": "code",
   "execution_count": 271,
   "metadata": {},
   "outputs": [
    {
     "data": {
      "text/plain": [
       "112"
      ]
     },
     "execution_count": 271,
     "metadata": {},
     "output_type": "execute_result"
    }
   ],
   "source": [
    "sum(a)"
   ]
  },
  {
   "cell_type": "code",
   "execution_count": 272,
   "metadata": {},
   "outputs": [],
   "source": [
    "#https://note.nkmk.me/en/python-numpy-delete/#:~:text=Using%20the%20NumPy%20function%20np,from%20the%20NumPy%20array%20ndarray%20.&text=Specify%20the%20axis%20(dimension)%20and,a%20slice%20or%20a%20list.\n",
    "malldata=np.delete(malldata,0,1)"
   ]
  },
  {
   "cell_type": "raw",
   "metadata": {},
   "source": [
    "Now our data is 4 dimensional \n",
    "We will try to visualize our data by the methods given in below link "
   ]
  },
  {
   "cell_type": "code",
   "execution_count": 273,
   "metadata": {},
   "outputs": [],
   "source": [
    "#malldata = normalize(malldata, axis=0, norm='max')"
   ]
  },
  {
   "cell_type": "code",
   "execution_count": 274,
   "metadata": {},
   "outputs": [
    {
     "data": {
      "text/plain": [
       "array([[ 1, 19, 15, 39],\n",
       "       [ 1, 21, 15, 81],\n",
       "       [ 0, 20, 16,  6],\n",
       "       [ 0, 23, 16, 77],\n",
       "       [ 0, 31, 17, 40],\n",
       "       [ 0, 22, 17, 76],\n",
       "       [ 0, 35, 18,  6],\n",
       "       [ 0, 23, 18, 94],\n",
       "       [ 1, 64, 19,  3],\n",
       "       [ 0, 30, 19, 72]], dtype=int64)"
      ]
     },
     "execution_count": 274,
     "metadata": {},
     "output_type": "execute_result"
    }
   ],
   "source": [
    "malldata[:10,]"
   ]
  },
  {
   "cell_type": "code",
   "execution_count": 275,
   "metadata": {},
   "outputs": [
    {
     "data": {
      "image/png": "[encoded data removed]",
      "text/plain": [
       "<Figure size 432x288 with 1 Axes>"
      ]
     },
     "metadata": {
      "needs_background": "light"
     },
     "output_type": "display_data"
    }
   ],
   "source": [
    "from sklearn import cluster\n",
    "distortions = []\n",
    "for i in range(1, 11):\n",
    "    km = cluster.KMeans(\n",
    "        n_clusters=i, init='k-means++',\n",
    "        n_init=10, max_iter=1000,\n",
    "        tol=1e-04, random_state=0\n",
    "    )\n",
    "    km.fit(malldata)\n",
    "    distortions.append(km.inertia_)\n",
    "# plot\n",
    "plt.plot(range(1, 11), distortions, marker='o')\n",
    "plt.xlabel('Number of clusters')\n",
    "plt.ylabel('Distortion')\n",
    "plt.show()\n"
   ]
  },
  {
   "cell_type": "raw",
   "metadata": {},
   "source": [
    "The following article is referenced for clustering \n",
    "From the curve ,we should keep the number of clusters 4 \n",
    "Since after that no significant reduction in the SSE is observed .\n",
    "https://towardsdatascience.com/k-means-clustering-with-scikit-learn-6b47a369a83c\n",
    "http://www.apnorton.com/blog/2016/12/19/Visualizing-Multidimensional-Data-in-Python/"
   ]
  },
  {
   "cell_type": "code",
   "execution_count": 276,
   "metadata": {},
   "outputs": [],
   "source": [
    "km = cluster.KMeans(\n",
    "    n_clusters=4, init='k-means++',\n",
    "    n_init=10, max_iter=1000, \n",
    "    tol=1e-04, random_state=0\n",
    ")\n",
    "y_km = km.fit_predict(X)#we have predicted the cluster labels y_km\n",
    "from sklearn.decomposition import PCA as sklearnPCA"
   ]
  },
  {
   "cell_type": "code",
   "execution_count": 277,
   "metadata": {},
   "outputs": [
    {
     "name": "stdout",
     "output_type": "stream",
     "text": [
      "[2 2 1 3 1 3 1 3 0 3 0 3 1 3 0 2 1 2 0 3 0 2 1 2 1 2 1 2 1 3 0 3 0 2 1 3 1\n",
      " 3 1 3 1 2 0 3 1 3 1 3 1 1 1 2 3 0 1 0 1 0 3 0 0 2 1 1 0 2 1 1 2 1 0 1 1 1\n",
      " 0 2 1 0 3 1 0 2 0 1 3 0 1 3 3 1 1 2 0 1 1 2 1 3 0 2 1 1 0 2 0 3 1 0 0 0 0\n",
      " 3 1 2 3 3 1 1 1 1 2 1 3 2 1 3 0 2 0 2 0 2 1 3 0 3 1 2 0 3 1 2 1 3 0 2 0 3\n",
      " 1 2 0 2 1 3 1 3 0 3 0 3 1 3 0 3 0 3 0 3 1 2 0 2 0 2 1 3 0 2 0 2 1 3 0 3 1\n",
      " 2 1 2 1 3 1 3 0 3 1 3 1 2 0 2]\n"
     ]
    }
   ],
   "source": [
    "pca = sklearnPCA(n_components=2) #2-dimensional PCA\n",
    "transformed = pd.DataFrame(pca.fit_transform(malldata))\n",
    "#transformed = pd.DataFrame(malldata)\n",
    "print(y_km)"
   ]
  },
  {
   "cell_type": "code",
   "execution_count": 278,
   "metadata": {},
   "outputs": [
    {
     "data": {
      "image/png": "[encoded data removed]",
      "text/plain": [
       "<Figure size 432x288 with 1 Axes>"
      ]
     },
     "metadata": {
      "needs_background": "light"
     },
     "output_type": "display_data"
    }
   ],
   "source": [
    "plt.scatter(transformed[y_km==0][0], transformed[y_km==0][1], label='Class 1', c='red')\n",
    "plt.scatter(transformed[y_km==1][0], transformed[y_km==1][1], label='Class 2', c='blue')\n",
    "plt.scatter(transformed[y_km==2][0], transformed[y_km==2][1], label='Class 3', c='green')\n",
    "plt.scatter(transformed[y_km==3][0], transformed[y_km==3][1], label='Class 4', c='black')\n",
    "#plt.scatter(transformed[y_km==5][0], transformed[y_km==5][1], label='Class 5', c='grey')\n",
    "\n",
    "plt.legend()\n",
    "plt.show()"
   ]
  },
  {
   "cell_type": "code",
   "execution_count": null,
   "metadata": {},
   "outputs": [],
   "source": [
    "from sklearn.discriminant_analysis import LinearDiscriminantAnalysis as LDA"
   ]
  },
  {
   "cell_type": "code",
   "execution_count": null,
   "metadata": {},
   "outputs": [],
   "source": []
  }
 ],
 "metadata": {
  "kernelspec": {
   "display_name": "Python 3",
   "language": "python",
   "name": "python3"
  },
  "language_info": {
   "codemirror_mode": {
    "name": "ipython",
    "version": 3
   },
   "file_extension": ".py",
   "mimetype": "text/x-python",
   "name": "python",
   "nbconvert_exporter": "python",
   "pygments_lexer": "ipython3",
   "version": "3.7.7"
  }
 },
 "nbformat": 4,
 "nbformat_minor": 4
}
